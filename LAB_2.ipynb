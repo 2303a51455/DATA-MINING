{
  "nbformat": 4,
  "nbformat_minor": 0,
  "metadata": {
    "colab": {
      "provenance": [],
      "include_colab_link": true
    },
    "kernelspec": {
      "name": "python3",
      "display_name": "Python 3"
    },
    "language_info": {
      "name": "python"
    }
  },
  "cells": [
    {
      "cell_type": "markdown",
      "metadata": {
        "id": "view-in-github",
        "colab_type": "text"
      },
      "source": [
        "<a href=\"https://colab.research.google.com/github/2303a51455/DATA-MINING/blob/main/LAB_2.ipynb\" target=\"_parent\"><img src=\"https://colab.research.google.com/assets/colab-badge.svg\" alt=\"Open In Colab\"/></a>"
      ]
    },
    {
      "cell_type": "code",
      "source": [
        "import pandas as pd\n",
        "from sklearn.preprocessing import LabelEncoder, OneHotEncoder"
      ],
      "metadata": {
        "id": "IM5inoB4d1HY"
      },
      "execution_count": 3,
      "outputs": []
    },
    {
      "cell_type": "code",
      "source": [
        "#example data\n",
        "data = {'category':['A','B','C','A','B']}\n",
        "df=pd.DataFrame(data)\n",
        "print(df)"
      ],
      "metadata": {
        "colab": {
          "base_uri": "https://localhost:8080/"
        },
        "id": "Fqd9xQYDh1Kp",
        "outputId": "35198cc9-04ad-4781-a826-a658ee3370b1"
      },
      "execution_count": 17,
      "outputs": [
        {
          "output_type": "stream",
          "name": "stdout",
          "text": [
            "  category\n",
            "0        A\n",
            "1        B\n",
            "2        C\n",
            "3        A\n",
            "4        B\n"
          ]
        }
      ]
    },
    {
      "cell_type": "code",
      "source": [
        "#label Encoding\n",
        "label_encoder=LabelEncoder()\n",
        "df['Label_Encoded']=label_encoder.fit_transform(df['category'])\n",
        "print(df)\n",
        "\n",
        "\n"
      ],
      "metadata": {
        "colab": {
          "base_uri": "https://localhost:8080/"
        },
        "id": "xoknm1FMihpD",
        "outputId": "5715a6ec-90cc-4bf6-cd2b-3b9a3d1cf594"
      },
      "execution_count": 18,
      "outputs": [
        {
          "output_type": "stream",
          "name": "stdout",
          "text": [
            "  category  Label_Encoded\n",
            "0        A              0\n",
            "1        B              1\n",
            "2        C              2\n",
            "3        A              0\n",
            "4        B              1\n"
          ]
        }
      ]
    },
    {
      "cell_type": "code",
      "source": [
        "#one-hot encoding\n",
        "one_hot_encoder = pd.get_dummies(df['category'], prefix='category')\n",
        "df = pd.concat([df, one_hot_encoder], axis=1)\n",
        "print(df)\n"
      ],
      "metadata": {
        "colab": {
          "base_uri": "https://localhost:8080/"
        },
        "id": "HtcNhvT2ikmv",
        "outputId": "4335ddcb-7da9-4fbf-f8b8-02a9236e020a"
      },
      "execution_count": 19,
      "outputs": [
        {
          "output_type": "stream",
          "name": "stdout",
          "text": [
            "  category  Label_Encoded  category_A  category_B  category_C\n",
            "0        A              0        True       False       False\n",
            "1        B              1       False        True       False\n",
            "2        C              2       False       False        True\n",
            "3        A              0        True       False       False\n",
            "4        B              1       False        True       False\n"
          ]
        }
      ]
    },
    {
      "cell_type": "code",
      "source": [
        "from datetime import datetime\n",
        "# example data\n",
        "data = {'Name':['Sanjana','Aashritha','Sanjay'], 'Date_of_Birth':['2005-04-11','2006-03-10','2009-10-11']}\n",
        "df = pd.DataFrame(data)\n",
        "print(df)"
      ],
      "metadata": {
        "colab": {
          "base_uri": "https://localhost:8080/"
        },
        "id": "3HIskUPVnSsS",
        "outputId": "7172b6f9-9142-4ef4-c659-9b7b8a862e9e"
      },
      "execution_count": 26,
      "outputs": [
        {
          "output_type": "stream",
          "name": "stdout",
          "text": [
            "        Name Date_of_Birth\n",
            "0    Sanjana    2005-04-11\n",
            "1  Aashritha    2006-03-10\n",
            "2     Sanjay    2009-10-11\n"
          ]
        }
      ]
    },
    {
      "cell_type": "code",
      "source": [
        "#convert date_of_birth to dateline\n",
        "df['Date_of_Birth'] = pd. to_datetime(df['Date_of_Birth'])\n",
        "print(df)"
      ],
      "metadata": {
        "colab": {
          "base_uri": "https://localhost:8080/"
        },
        "id": "yk8uVuCMnl72",
        "outputId": "f0eb6f9f-edc1-459a-887c-4b9ecdb22268"
      },
      "execution_count": 28,
      "outputs": [
        {
          "output_type": "stream",
          "name": "stdout",
          "text": [
            "        Name Date_of_Birth\n",
            "0    Sanjana    2005-04-11\n",
            "1  Aashritha    2006-03-10\n",
            "2     Sanjay    2009-10-11\n"
          ]
        }
      ]
    },
    {
      "cell_type": "code",
      "source": [
        "#current age\n",
        "current_year = datetime.now().year\n",
        "df['age'] = current_year- df['Date_of_Birth'].dt.year\n",
        "print(df)"
      ],
      "metadata": {
        "colab": {
          "base_uri": "https://localhost:8080/"
        },
        "id": "vlYIxX-zoll-",
        "outputId": "5c30e4f6-8c73-4c4e-97ff-a607939d72b1"
      },
      "execution_count": 29,
      "outputs": [
        {
          "output_type": "stream",
          "name": "stdout",
          "text": [
            "        Name Date_of_Birth  age\n",
            "0    Sanjana    2005-04-11   20\n",
            "1  Aashritha    2006-03-10   19\n",
            "2     Sanjay    2009-10-11   16\n"
          ]
        }
      ]
    },
    {
      "cell_type": "code",
      "source": [
        "#example data\n",
        "data = {'Category':['A','A','B','B','C'],'Value':[10,20,10,30,40]}\n",
        "df = pd.DataFrame(data)\n",
        "print(df)"
      ],
      "metadata": {
        "colab": {
          "base_uri": "https://localhost:8080/"
        },
        "id": "hLSzvA_MrCRO",
        "outputId": "794cb4e7-85ab-4a12-ac25-c7d1b0b636dc"
      },
      "execution_count": 31,
      "outputs": [
        {
          "output_type": "stream",
          "name": "stdout",
          "text": [
            "  Category  Value\n",
            "0        A     10\n",
            "1        A     20\n",
            "2        B     10\n",
            "3        B     30\n",
            "4        C     40\n"
          ]
        }
      ]
    },
    {
      "cell_type": "code",
      "source": [
        "# Group by and aggregate\n",
        "grouped = df.groupby('Category').agg({'Value':['sum','mean']})\n",
        "print(\"Grouped Data.\\n\",grouped)"
      ],
      "metadata": {
        "colab": {
          "base_uri": "https://localhost:8080/"
        },
        "id": "ovPdPiEErGxg",
        "outputId": "0ce2b43e-dc32-4397-b6c8-4f80d051c5c5"
      },
      "execution_count": 34,
      "outputs": [
        {
          "output_type": "stream",
          "name": "stdout",
          "text": [
            "Grouped Data.\n",
            "          Value      \n",
            "           sum  mean\n",
            "Category            \n",
            "A           30  15.0\n",
            "B           40  20.0\n",
            "C           40  40.0\n"
          ]
        }
      ]
    },
    {
      "cell_type": "code",
      "source": [
        "#pivot table\n",
        "pivot = df.pivot_table(index='Category',values='Value',aggfunc=['sum','mean'])\n",
        "print(\"\\n pivot Table:\\n\",pivot)"
      ],
      "metadata": {
        "colab": {
          "base_uri": "https://localhost:8080/"
        },
        "id": "Rudq-JPDtXzV",
        "outputId": "109e3ae1-c2a8-4977-9b31-052b22f00da9"
      },
      "execution_count": 36,
      "outputs": [
        {
          "output_type": "stream",
          "name": "stdout",
          "text": [
            "\n",
            " pivot Table:\n",
            "            sum  mean\n",
            "         Value Value\n",
            "Category            \n",
            "A           30  15.0\n",
            "B           40  20.0\n",
            "C           40  40.0\n"
          ]
        }
      ]
    }
  ]
}